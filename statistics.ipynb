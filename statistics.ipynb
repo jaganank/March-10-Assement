{
 "cells": [
  {
   "cell_type": "code",
   "execution_count": 1,
   "id": "d27b8d2b",
   "metadata": {},
   "outputs": [],
   "source": [
    "#What is the meaning of six sigma in statistics?  Give proper example"
   ]
  },
  {
   "cell_type": "markdown",
   "id": "042899c1",
   "metadata": {},
   "source": [
    "The name is statistical: the term “sigma” is used for standard deviation and “six sigma” refers to the aim of having 12 standard deviations of a quality characteristic within its specification limits—for the moment let us call it six on either side of the mean. This translates to having no more than 3.4 defects per million units, which generally speaking is very few defects. When translated into 3.4 defects per million opportunities, however, the probability of a complex product, such as a car, going wrong becomes a bit more worrying.\n",
    "\n",
    "Statisticians will recall that the probability of a normally distributed variable being within six standard deviations of the mean is actually less than 3.4 per million. This is where the practical nature of Six Sigma is demonstrated because the calculation allows the mean to wander by up to 1.5 standard deviations: the probability calculated is for the variable to be between 7.5 and 4.5 standard deviations of the mean rather than symmetrically with six standard deviations either side of the mean1.\n",
    "\n",
    "Six Sigma is a useful banner under which to teach statistics. Some companies adopt the methodology but under a different name, such as “statistical thinking” or “high performance focus” and some prefer to avoid badges completely. As far as statisticians are concerned, teaching statistics in the context of the strategic aims of a company should not present a problem; being treated with respect and having good status as a statistician is also to be welcomed.\n",
    "\n",
    "Six Sigma training should lead to further, more detailed, statistical analysis in a company, but this does not appear to be happening yet. Statistics is intrinsically difficult; people do not like the ifs and buts that go with it. For example, a company says they would like to improve the output of a production line. Question: how are products measured? Answer: in or out of spec. Question: can we measure more precisely? Answer: with better equipment but that is too expensive and not what interests the customer.\n",
    "\n",
    "Many successful Six Sigma projects are due to their cross-department focus. For example, a pump-manufacturing company was losing money. The factory was very efficient and high tech but the lead time given out to customers by the telephonist was far too long and the collection of payments was so unreliable that there were continual cash flow problems. An experiment in which the company varied the time and day of telephoning to follow-up a bill showed that a phone call 10 days after sending a letter led to a reduction in the wait for payment of 30 days.\n",
    "\n",
    "Methodologies of Six Sigma\n",
    "\n",
    "DMAIC: The DMAIC method is used primarily for improving existing business processes. The letters stand for:\n",
    "\n",
    "Define the problem and the project goals\n",
    "Measure in detail the various aspects of the current process\n",
    "Analyze data to, among other things, find the root defects in a process\n",
    "Improve the process\n",
    "Control how the process is done in the future\n",
    "DMADV: The DMADV method is typically used to create new processes and new products or services. The letters stand for:\n",
    "\n",
    "Define the project goals\n",
    "Measure critical components of the process and the product capabilities\n",
    "Analyze the data and develop various designs for the process, eventually picking the best one\n",
    "Design and test details of the process\n",
    "Verify the design by running simulations and a pilot program, and then handing over the process to the client\n",
    "\n",
    "some examples include the following.\n",
    "\n",
    "Five Whys\n",
    "This is a method that uses questions (typically five) to get to the root cause of a problem. The method is simple: simply state the final problem (the car wouldn’t start, I was late to work again today) and then ask the question “why,” breaking down the issue to its root cause. In these two cases, it might be: because I didn’t maintain the car properly and because I need to leave my house earlier to get to work on time.\n",
    "\n",
    "CTQ Tree\n",
    "The Critical to Quality (CTQ) Tree diagram breaks down the components of a process that produces the features needed in your product and service if you wish to have satisfied customers.\n",
    "\n",
    "Root Cause Analysis\n",
    "Much like the Five Whys, this is a process by which a business attempts to identify the root cause of a defect and then correct it, rather than simply correcting the surface “symptoms.”\n",
    "\n",
    "All the Six Sigma tools and methodologies serve one purpose: to streamline business processes to produce the best products and services possible with the smallest number of defects. Its adoption by corporations around the globe is an indicator of its remarkable success in today’s business environment."
   ]
  },
  {
   "cell_type": "code",
   "execution_count": 2,
   "id": "aabf1693",
   "metadata": {},
   "outputs": [],
   "source": [
    "#What type of data does not have a log-normal distribution or a Gaussian distribution?  Give proper example"
   ]
  },
  {
   "cell_type": "raw",
   "id": "5fad0399",
   "metadata": {},
   "source": [
    "Non-Gaussian distribution refers to a class of probability distributions that deviate from the symmetric and bell-shaped pattern of the Gaussian distribution (also known as the normal distribution). Unlike the normal distribution, non-Gaussian distributions exhibit various shapes, tail behaviors, skewness, and kurtosis. Understanding and analyzing non-Gaussian distributions is crucial in data analysis and modeling as they accurately represent real-world data, capture complex patterns, and handle outliers effectively.\n",
    "\n",
    "The importance of non-Gaussian distributions lies in their ability to model and analyze data that does not conform to the assumptions of Gaussian distributions. Many real-world phenomena, such as financial returns, rainfall patterns, failure rates, and medical test results, exhibit non-Gaussian behavior. By considering non-Gaussian distributions, data analysts and scientists can better capture the true characteristics and variations of these phenomena, leading to more accurate statistical analysis and modeling.\n",
    "\n",
    "In practical applications, non-Gaussian distributions play a significant role. They are employed in financial data analysis to model stock returns and market volatility, in natural phenomena modeling to study rainfall patterns and earthquakes, in reliability engineering to analyze failure rates and time to failure, in healthcare to understand medical test results and disease patterns, and in social sciences to examine income distribution and population growth.\n",
    "\n",
    "Examples of non-Gaussian distributions include the exponential distribution, Poisson distribution, log-normal distribution, Weibull distribution, gamma distribution, and chi-square distribution. Each distribution has its own characteristics and applications in different fields\n",
    "\n",
    "In terms of their frequency of appearance, the most-common non-normal distributions can be ranked in descending order as follows: gamma, negative binomial, multinomial, binomial, lognormal, and exponential\n",
    "\n",
    "Examples of data that does not have a Gaussian distribution, nor log-normal.\n",
    "\n",
    "1.Allocation of wealth among individuals\n",
    "2.Values of oil reserves among oil fields (many small ones, a small number of large ones)"
   ]
  },
  {
   "cell_type": "code",
   "execution_count": 3,
   "id": "07c24d32",
   "metadata": {},
   "outputs": [],
   "source": [
    "#What is the meaning of the five-number summary in Statistics? Give proper example"
   ]
  },
  {
   "cell_type": "raw",
   "id": "0893cf0d",
   "metadata": {},
   "source": [
    "The concept of a 5 number summary is a way to describe a distribution using 5 numbers. This includes minimum number, quartile-1, median/quartile-2, quartile-3, and maximum number. This concept of 5 number summary comes under the concept of Statistics which deals with the collection of data, analyzing it, interpreting, and presenting the data in an organized manner.\n",
    "\n",
    "5 Number Summary\n",
    "It gives a rough idea how the given dataset looks like by representing minimum value, maximum value, median, quartile values, etc.\n",
    "\n",
    "Calculating 5 number summary\n",
    "\n",
    "In order to find the 5 number summary, we need the data to be sorted. If not sort it first in ascending order and then find it.\n",
    "\n",
    "Minimum Value: It is the smallest number in the given data, and the first number when it is sorted in ascending order.\n",
    "Maximum Value: It is the largest number in the given data, and the last number when it is sorted in ascending order.\n",
    "Median: Middle value between the minimum and maximum value. Below is the formula to find median,\n",
    "\n",
    "\n",
    "Median = (n + 1)/2th term\n",
    "\n",
    "Quartile 1: Middle/center value between the minimum and median value. We can simply identify the middle value between median and minimum value for a small dataset. If it is a big dataset with so many numbers then better to use a formula,\n",
    "Quartile 1 = ((n + 1)/4)th term\n",
    "\n",
    "Quartile 3: Middle/center value between median and maximum value.\n",
    "Quartile 3 = (3(n + 1)/4)th term\n",
    "\n",
    "\n",
    "Example:\n",
    "Find the 5 number summary for the given data 10, 20, 5, 15, 25, 30, 8\n",
    "\n",
    "Solution:\n",
    "\n",
    "Step-1 Sort the given data in ascending order.\n",
    "5, 8, 10, 15, 20, 25, 30\n",
    "\n",
    "Step-2 \n",
    "As the given data is same as the above examples we can get minimum value, median and maximum from there.\n",
    "\n",
    "So, Minimum = 5\n",
    "\n",
    "Maximum = 30\n",
    "\n",
    "Median = 15\n",
    "\n",
    "Now find 1st and 3rd quartile either by using formula or by picking center value. Both gives same result\n",
    "\n",
    "For Quartile-1 Formula is ((n + 1)/4)th term where n is the count of numbers in the dataset.\n",
    "\n",
    "n = 7 because there are 7 numbers in the data.\n",
    "\n",
    "Quartile-1 = ((7 + 1)4)th term\n",
    "\n",
    "= (8/4)th term\n",
    "\n",
    "= 2nd term\n",
    "\n",
    "2nd term is 8 So, Quartile-1 = 8\n",
    "\n",
    "In the same way find the quartile-3 using the formula (3(n + 1)/4)th term.\n",
    "\n",
    "Quartile 3 = (3(7 + 1)/4)th term\n",
    "\n",
    "= (3(8)/4)th term\n",
    "\n",
    "= (24/4)th term\n",
    "\n",
    " = 6th term\n",
    "\n",
    "6th term is 25 so  Quartile-3 = 25\n",
    "\n"
   ]
  },
  {
   "cell_type": "code",
   "execution_count": 4,
   "id": "694644a4",
   "metadata": {},
   "outputs": [],
   "source": [
    "#What is correlation? Give an example with a dataset & graphical representation on jupyter Notebook"
   ]
  },
  {
   "cell_type": "code",
   "execution_count": 14,
   "id": "7df128ab",
   "metadata": {},
   "outputs": [],
   "source": [
    "import sklearn\n",
    "import numpy as np\n",
    "import matplotlib.pyplot as plt\n",
    "import pandas as pd"
   ]
  },
  {
   "cell_type": "code",
   "execution_count": 15,
   "id": "13f16417",
   "metadata": {},
   "outputs": [
    {
     "data": {
      "text/plain": [
       "0.8603090020146067"
      ]
     },
     "execution_count": 15,
     "metadata": {},
     "output_type": "execute_result"
    }
   ],
   "source": [
    "y = pd.Series([1, 2, 3, 4, 3, 5, 4])\n",
    "x = pd.Series([1, 2, 3, 4, 5, 6, 7])\n",
    "correlation = y.corr(x)\n",
    "correlation "
   ]
  },
  {
   "cell_type": "code",
   "execution_count": 16,
   "id": "fac7b920",
   "metadata": {},
   "outputs": [
    {
     "data": {
      "text/plain": [
       "[<matplotlib.lines.Line2D at 0x26bf288a3d0>]"
      ]
     },
     "execution_count": 16,
     "metadata": {},
     "output_type": "execute_result"
    },
    {
     "data": {
      "image/png": "[encoded data removed]",
      "text/plain": [
       "<Figure size 640x480 with 1 Axes>"
      ]
     },
     "metadata": {},
     "output_type": "display_data"
    }
   ],
   "source": [
    "# plotting the data\n",
    "plt.scatter(x, y)\n",
    " \n",
    "# This will fit the best line into the graph\n",
    "plt.plot(np.unique(x), np.poly1d(np.polyfit(x, y, 1))\n",
    "         (np.unique(x)), color='red')"
   ]
  },
  {
   "cell_type": "code",
   "execution_count": 18,
   "id": "6a1b1c0d",
   "metadata": {},
   "outputs": [
    {
     "data": {
      "text/plain": [
       "Text(0, 0.5, 'y axis')"
      ]
     },
     "execution_count": 18,
     "metadata": {},
     "output_type": "execute_result"
    },
    {
     "data": {
      "image/png": "[encoded data removed]",
      "text/plain": [
       "<Figure size 640x480 with 1 Axes>"
      ]
     },
     "metadata": {},
     "output_type": "display_data"
    }
   ],
   "source": [
    "#adds the title\n",
    "plt.title('Correlation')\n",
    " \n",
    "# plot the data\n",
    "plt.scatter(x, y)\n",
    " \n",
    "# fits the best fitting line to the data\n",
    "plt.plot(np.unique(x), \n",
    "         np.poly1d(np.polyfit(x, y, 1))\n",
    "         (np.unique(x)), color='red')\n",
    " \n",
    "# Labelling axes\n",
    "plt.xlabel('x axis')\n",
    "plt.ylabel('y axis')"
   ]
  },
  {
   "cell_type": "code",
   "execution_count": null,
   "id": "7c90a8c7",
   "metadata": {},
   "outputs": [],
   "source": [
    "import seaborn as sns\n",
    " \n",
    "# checking correlation using heatmap\n",
    "#Loading dataset\n",
    "flights = sns.load_dataset(\"flights\")\n",
    " \n",
    "#plotting the heatmap for correlation\n",
    "ax = sns.heatmap(flights.corr(), annot=True)"
   ]
  }
 ],
 "metadata": {
  "kernelspec": {
   "display_name": "Python 3 (ipykernel)",
   "language": "python",
   "name": "python3"
  },
  "language_info": {
   "codemirror_mode": {
    "name": "ipython",
    "version": 3
   },
   "file_extension": ".py",
   "mimetype": "text/x-python",
   "name": "python",
   "nbconvert_exporter": "python",
   "pygments_lexer": "ipython3",
   "version": "3.11.5"
  }
 },
 "nbformat": 4,
 "nbformat_minor": 5
}
